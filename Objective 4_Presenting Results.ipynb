{
 "cells": [
  {
   "cell_type": "markdown",
   "source": [
    "## Presentation and Discussion of Results"
   ],
   "metadata": {
    "collapsed": false
   },
   "id": "3fed2c13a09d911d"
  },
  {
   "cell_type": "code",
   "execution_count": null,
   "id": "initial_id",
   "metadata": {
    "collapsed": true
   },
   "outputs": [],
   "source": [
    "import pandas as pd\n",
    "import numpy as np\n",
    "import matplotlib.pyplot as plt\n",
    "import seaborn as sns\n",
    "import psycopg2"
   ]
  },
  {
   "cell_type": "markdown",
   "source": [
    "#### Establishing a connection to the database\n",
    "Database is hosted on local server. The database is called \"Flight Delays \""
   ],
   "metadata": {
    "collapsed": false
   },
   "id": "a902e8e4237f8871"
  },
  {
   "cell_type": "code",
   "execution_count": null,
   "outputs": [],
   "source": [
    "# Connect to the database\n",
    "conn = psycopg2.connect(\n",
    "    host=\"localhost\",\n",
    "    database=\"Flight Delays \",\n",
    "    user=\"postgres\",\n",
    "    password=\"12345678\"\n",
    ")"
   ],
   "metadata": {
    "collapsed": false
   },
   "id": "c1fc83c4f265f00b"
  },
  {
   "cell_type": "code",
   "execution_count": null,
   "outputs": [],
   "source": [
    "# Create a cursor object\n",
    "cur = conn.cursor()"
   ],
   "metadata": {
    "collapsed": false
   },
   "id": "9af8b14b75e9a301"
  },
  {
   "cell_type": "markdown",
   "source": [
    "#### Importing Queries\n",
    "Queries are stored in a file called \"Queries.sql\". We import the queries and store them in a list."
   ],
   "metadata": {
    "collapsed": false
   },
   "id": "8e7559f5210948b2"
  },
  {
   "cell_type": "code",
   "execution_count": null,
   "outputs": [],
   "source": [
    "file_path = \"Objective 3_Queries.sql\"\n",
    "with open(file_path, \"r\") as file:\n",
    "    queries = file.read().split(';')"
   ],
   "metadata": {
    "collapsed": false
   },
   "id": "7ff56af509e68aba"
  },
  {
   "cell_type": "code",
   "execution_count": null,
   "outputs": [],
   "source": [
    "queries = [query.strip() for query in queries]"
   ],
   "metadata": {
    "collapsed": false
   },
   "id": "c5586d4c132a2d76"
  },
  {
   "cell_type": "markdown",
   "source": [
    "#### Query 1: Setting negative delays to 0\n",
    "To ensure our data is not skewed by negative delays, we set all negative delays to 0. To use this adjusted data we commit it to the database."
   ],
   "metadata": {
    "collapsed": false
   },
   "id": "bc283d9c6006e708"
  },
  {
   "cell_type": "code",
   "execution_count": null,
   "outputs": [],
   "source": [
    "# Select Flights with Delay only\n",
    "cur.execute(queries[0])\n",
    "conn.commit()"
   ],
   "metadata": {
    "collapsed": false
   },
   "id": "2dde25127a675fe0"
  },
  {
   "cell_type": "markdown",
   "source": [
    "#### Query 2: Average Delay by Latitude\n",
    "To explore the relationship between latitude and delay, we plot the delay for each latitude. We also calculate the correlation coefficient between latitude and delay."
   ],
   "metadata": {
    "collapsed": false
   },
   "id": "e39ab1e523ac1f27"
  },
  {
   "cell_type": "code",
   "execution_count": null,
   "outputs": [],
   "source": [
    "# Load query 1 results into a dataframe\n",
    "cur.execute(queries[1])\n",
    "results = cur.fetchall()\n",
    "latitude_delays = pd.DataFrame(results, columns=['Latitude', 'Delay'])\n"
   ],
   "metadata": {
    "collapsed": false
   },
   "id": "49f0eb82b84387ef"
  },
  {
   "cell_type": "code",
   "execution_count": null,
   "outputs": [],
   "source": [
    "# Scatterplot of Latitude vs. Delay\n",
    "plt.figure(figsize=(10, 6))\n",
    "sns.scatterplot(x='Latitude', y='Delay', data=latitude_delays)\n",
    "plt.title('Arrival Delay vs. Latitude of Origin Airport')\n",
    "plt.xlabel('Latitude of Origin Airport')\n",
    "plt.ylabel('Arrival Delay (minutes)')\n",
    "plt.show()"
   ],
   "metadata": {
    "collapsed": false
   },
   "id": "f0e106f9d0c75dba"
  },
  {
   "cell_type": "code",
   "execution_count": null,
   "outputs": [],
   "source": [
    "# Calculate the correlation coefficient\n",
    "latitude_delays = latitude_delays.dropna()\n",
    "corr = np.corrcoef(latitude_delays['Latitude'], latitude_delays['Delay'])[0, 1]\n",
    "print('Correlation coefficient:', corr)"
   ],
   "metadata": {
    "collapsed": false
   },
   "id": "96d88428ef5b358c"
  },
  {
   "cell_type": "markdown",
   "source": [
    "#### Query 3: Average Delay\n",
    "To further investigate the relationship, we group the latitudes into ranges of 5 degrees and calculate the average delay for each range. We then plot these averages against the latitude ranges and calculate the correlation coefficient."
   ],
   "metadata": {
    "collapsed": false
   },
   "id": "f56f1813e956ccc3"
  },
  {
   "cell_type": "code",
   "execution_count": null,
   "outputs": [],
   "source": [
    "# Average Delay by Latitude\n",
    "avg_delays = pd.DataFrame(columns=['Latitude_lower',\n",
    "                                'Latitude_upper',\n",
    "                                'Latitude Range',\n",
    "                                'Average'])"
   ],
   "metadata": {
    "collapsed": false
   },
   "id": "6c27198d4b311f35"
  },
  {
   "cell_type": "code",
   "execution_count": null,
   "outputs": [],
   "source": [
    "# Latitude ranges for grouping\n",
    "latitude_ranges = [\n",
    "    (0.0, 20.0),    # For WHERE A.Latitude < 20.0\n",
    "    (20.0, 25.0),\n",
    "    (25.0, 30.0),\n",
    "    (30.0, 35.0),\n",
    "    (35.0, 40.0),\n",
    "    (40.0, 45.0),\n",
    "    (45.0, 50.0),\n",
    "    (50.0, 55.0),\n",
    "    (55.0, 60.0),\n",
    "    (60.0, 65.0),\n",
    "    (65.0, 90.0)    # For WHERE A.Latitude > 65.0\n",
    "]"
   ],
   "metadata": {
    "collapsed": false
   },
   "id": "d70f7745c3c4e750"
  },
  {
   "cell_type": "code",
   "execution_count": null,
   "outputs": [],
   "source": [
    "# Average delay for each latitude range\n",
    "for i, bounds in enumerate(latitude_ranges):\n",
    "    cur.execute(queries[1], bounds)\n",
    "    results = cur.fetchall()\n",
    "    avg_delays.loc[i] = [bounds[0], bounds[1], str(bounds), results[0][0]]\n",
    "  "
   ],
   "metadata": {
    "collapsed": false
   },
   "id": "3856e1fe9726217b"
  },
  {
   "cell_type": "code",
   "execution_count": null,
   "outputs": [],
   "source": [
    "# Plot the results\n",
    "plt.figure(figsize=(15, 6))\n",
    "sns.barplot(x='Latitude Range', y='Average', data=avg_delays)\n",
    "plt.title('Average Arrival Delay by Latitude of Origin Airport')\n",
    "plt.xlabel('Latitude of Origin Airport')\n",
    "plt.ylabel('Average Arrival Delay (minutes)')\n",
    "plt.show()"
   ],
   "metadata": {
    "collapsed": false
   },
   "id": "3cf278816f393cce"
  },
  {
   "cell_type": "code",
   "execution_count": null,
   "outputs": [],
   "source": [
    "# calculate the correlation coefficient\n",
    "corr = np.corrcoef(avg_delays['Latitude_lower'], avg_delays['Average'])[0, 1]\n",
    "print('Correlation coefficient:', corr)"
   ],
   "metadata": {
    "collapsed": false
   },
   "id": "de8f55995bc4c61f"
  },
  {
   "cell_type": "markdown",
   "source": [
    "#### Closing the connection and cursor\n",
    "To prevent data integrity issues, we close the connection and cursor."
   ],
   "metadata": {
    "collapsed": false
   },
   "id": "3f6553b8e2142888"
  },
  {
   "cell_type": "code",
   "execution_count": null,
   "outputs": [],
   "source": [
    "# Close the cursor and connection\n",
    "cur.close()\n",
    "conn.close()"
   ],
   "metadata": {
    "collapsed": false
   },
   "id": "6c6fcb6ad2725306"
  }
 ],
 "metadata": {
  "kernelspec": {
   "display_name": "Python 3",
   "language": "python",
   "name": "python3"
  },
  "language_info": {
   "codemirror_mode": {
    "name": "ipython",
    "version": 2
   },
   "file_extension": ".py",
   "mimetype": "text/x-python",
   "name": "python",
   "nbconvert_exporter": "python",
   "pygments_lexer": "ipython2",
   "version": "2.7.6"
  }
 },
 "nbformat": 4,
 "nbformat_minor": 5
}
